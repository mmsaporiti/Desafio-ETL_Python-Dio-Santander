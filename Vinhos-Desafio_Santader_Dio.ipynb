{
 "cells": [
  {
   "cell_type": "markdown",
   "id": "4f8ddbf2",
   "metadata": {},
   "source": [
    "# Desafio: Enriquecendo os Dados com Pandas e Numpy\n",
    "\n",
    "- Apenas enriqueci os dados adicionando uma coluna nova \"Continente\" unsando np.where.\n",
    "\n",
    "- carreguei um csv desde o computador, enriqueci os dados e simulei o envio para o BigQuery. Também o exportei para csv"
   ]
  },
  {
   "cell_type": "code",
   "execution_count": 1,
   "id": "9db3f5da",
   "metadata": {},
   "outputs": [],
   "source": [
    "# Imports\n",
    "import pandas as pd\n",
    "import numpy as np\n",
    "import pandas_gbq # Conexão com BigQuery pelo Pandas\n",
    "from google.oauth2 import service_account # Conexão com Google Cloud\n",
    "from google.cloud import bigquery"
   ]
  },
  {
   "cell_type": "code",
   "execution_count": 2,
   "id": "28a78950",
   "metadata": {},
   "outputs": [
    {
     "data": {
      "text/plain": [
       "'key_path = \"xxx.json\"\\n\\ncredentials = service_account.Credentials.from_service_account_file(\\n    key_path, scopes=[\\'https://www.xxxxxxxx.com/auth/cloud-platform\\']\\n)'"
      ]
     },
     "execution_count": 2,
     "metadata": {},
     "output_type": "execute_result"
    }
   ],
   "source": [
    "# Esse seria o código para conectar, autorizar o google platform. Não vamos de fato usar aqui, apenas simular.\n",
    "\n",
    "'''key_path = \"xxx.json\"\n",
    "\n",
    "credentials = service_account.Credentials.from_service_account_file(\n",
    "    key_path, scopes=['https://www.xxxxxxxx.com/auth/cloud-platform']\n",
    ")'''"
   ]
  },
  {
   "cell_type": "code",
   "execution_count": 3,
   "id": "e9e3be8d",
   "metadata": {},
   "outputs": [
    {
     "data": {
      "text/html": [
       "<div>\n",
       "<style scoped>\n",
       "    .dataframe tbody tr th:only-of-type {\n",
       "        vertical-align: middle;\n",
       "    }\n",
       "\n",
       "    .dataframe tbody tr th {\n",
       "        vertical-align: top;\n",
       "    }\n",
       "\n",
       "    .dataframe thead th {\n",
       "        text-align: right;\n",
       "    }\n",
       "</style>\n",
       "<table border=\"1\" class=\"dataframe\">\n",
       "  <thead>\n",
       "    <tr style=\"text-align: right;\">\n",
       "      <th></th>\n",
       "      <th>Data compra</th>\n",
       "      <th>Data consumo</th>\n",
       "      <th>Valor</th>\n",
       "      <th>Vinho</th>\n",
       "      <th>Vinícula</th>\n",
       "      <th>Tipo</th>\n",
       "      <th>Uva</th>\n",
       "      <th>Graduação</th>\n",
       "      <th>Ano</th>\n",
       "      <th>Região</th>\n",
       "      <th>País</th>\n",
       "      <th>Loja</th>\n",
       "      <th>Ocasião</th>\n",
       "      <th>Avaliação</th>\n",
       "      <th>Motivo avaliação</th>\n",
       "      <th>Obs:</th>\n",
       "    </tr>\n",
       "  </thead>\n",
       "  <tbody>\n",
       "    <tr>\n",
       "      <th>0</th>\n",
       "      <td>17/02/2023</td>\n",
       "      <td>21/02/2023</td>\n",
       "      <td>32,9</td>\n",
       "      <td>Guapi Superior</td>\n",
       "      <td>Bodegas Tagua Tagua</td>\n",
       "      <td>Rosé</td>\n",
       "      <td>Merlot</td>\n",
       "      <td>13,0%</td>\n",
       "      <td>2020.0</td>\n",
       "      <td>Vale do Rappel</td>\n",
       "      <td>Chile</td>\n",
       "      <td>O Comerciante</td>\n",
       "      <td>primeiro vinho</td>\n",
       "      <td>3</td>\n",
       "      <td>Fácil de tomar, agradável</td>\n",
       "      <td>NaN</td>\n",
       "    </tr>\n",
       "    <tr>\n",
       "      <th>1</th>\n",
       "      <td>23/02/2023</td>\n",
       "      <td>26/02/2023</td>\n",
       "      <td>46</td>\n",
       "      <td>Sottano</td>\n",
       "      <td>Bodega Sottano</td>\n",
       "      <td>Rosé</td>\n",
       "      <td>Malbec</td>\n",
       "      <td>13,5%</td>\n",
       "      <td>2022.0</td>\n",
       "      <td>Mendoza</td>\n",
       "      <td>Argentina</td>\n",
       "      <td>O Comerciante</td>\n",
       "      <td>segundo vinho</td>\n",
       "      <td>4</td>\n",
       "      <td>Fácil de tomar, agradável</td>\n",
       "      <td>NaN</td>\n",
       "    </tr>\n",
       "    <tr>\n",
       "      <th>2</th>\n",
       "      <td>23/02/2023</td>\n",
       "      <td>02/06/2023</td>\n",
       "      <td>46</td>\n",
       "      <td>Piedra Rara</td>\n",
       "      <td>Piedra Rara</td>\n",
       "      <td>Tinto</td>\n",
       "      <td>Malbec</td>\n",
       "      <td>13,4%</td>\n",
       "      <td>2021.0</td>\n",
       "      <td>Mendoza</td>\n",
       "      <td>Argentina</td>\n",
       "      <td>O Comerciante</td>\n",
       "      <td>Em casa</td>\n",
       "      <td>3</td>\n",
       "      <td>Difícil de tomar, mais tempo no cálice</td>\n",
       "      <td>NaN</td>\n",
       "    </tr>\n",
       "    <tr>\n",
       "      <th>3</th>\n",
       "      <td>23/02/2023</td>\n",
       "      <td>08/05/2023</td>\n",
       "      <td>48</td>\n",
       "      <td>Le Mal Du Bec</td>\n",
       "      <td>Bodega Benoit</td>\n",
       "      <td>Tinto</td>\n",
       "      <td>Malbec</td>\n",
       "      <td>13,5%</td>\n",
       "      <td>2020.0</td>\n",
       "      <td>Mendoza</td>\n",
       "      <td>Argentina</td>\n",
       "      <td>O Comerciante</td>\n",
       "      <td>Assado Fred</td>\n",
       "      <td>3,5</td>\n",
       "      <td>Fácil de tomar, agradável</td>\n",
       "      <td>NaN</td>\n",
       "    </tr>\n",
       "    <tr>\n",
       "      <th>4</th>\n",
       "      <td>23/02/2023</td>\n",
       "      <td>20/05/2023</td>\n",
       "      <td>54</td>\n",
       "      <td>Carrascal</td>\n",
       "      <td>Cavas de Weinert</td>\n",
       "      <td>Branco</td>\n",
       "      <td>Chardonnay</td>\n",
       "      <td>13,5%</td>\n",
       "      <td>2021.0</td>\n",
       "      <td>Mendoza</td>\n",
       "      <td>Argentina</td>\n",
       "      <td>O Comerciante</td>\n",
       "      <td>Pizza Renata, Franco</td>\n",
       "      <td>4,5</td>\n",
       "      <td>Muito fácil de tomar, saboroso</td>\n",
       "      <td>NaN</td>\n",
       "    </tr>\n",
       "  </tbody>\n",
       "</table>\n",
       "</div>"
      ],
      "text/plain": [
       "  Data compra Data consumo Valor           Vinho             Vinícula    Tipo  \\\n",
       "0  17/02/2023   21/02/2023  32,9  Guapi Superior  Bodegas Tagua Tagua    Rosé   \n",
       "1  23/02/2023   26/02/2023    46         Sottano       Bodega Sottano    Rosé   \n",
       "2  23/02/2023   02/06/2023    46     Piedra Rara          Piedra Rara   Tinto   \n",
       "3  23/02/2023   08/05/2023    48   Le Mal Du Bec        Bodega Benoit   Tinto   \n",
       "4  23/02/2023   20/05/2023    54       Carrascal     Cavas de Weinert  Branco   \n",
       "\n",
       "          Uva Graduação     Ano          Região       País           Loja  \\\n",
       "0      Merlot     13,0%  2020.0  Vale do Rappel      Chile  O Comerciante   \n",
       "1      Malbec     13,5%  2022.0         Mendoza  Argentina  O Comerciante   \n",
       "2      Malbec     13,4%  2021.0         Mendoza  Argentina  O Comerciante   \n",
       "3      Malbec     13,5%  2020.0         Mendoza  Argentina  O Comerciante   \n",
       "4  Chardonnay     13,5%  2021.0         Mendoza  Argentina  O Comerciante   \n",
       "\n",
       "                Ocasião Avaliação                        Motivo avaliação Obs:  \n",
       "0        primeiro vinho         3               Fácil de tomar, agradável  NaN  \n",
       "1         segundo vinho         4               Fácil de tomar, agradável  NaN  \n",
       "2               Em casa         3  Difícil de tomar, mais tempo no cálice  NaN  \n",
       "3           Assado Fred       3,5               Fácil de tomar, agradável  NaN  \n",
       "4  Pizza Renata, Franco       4,5          Muito fácil de tomar, saboroso  NaN  "
      ]
     },
     "execution_count": 3,
     "metadata": {},
     "output_type": "execute_result"
    }
   ],
   "source": [
    "# Vamos ler os dados em csv\n",
    "df_vinhos = pd.read_csv('Vinhos - Base_Vinhos.csv')\n",
    "df_vinhos.head()"
   ]
  },
  {
   "cell_type": "code",
   "execution_count": 4,
   "id": "77b49a05",
   "metadata": {},
   "outputs": [
    {
     "name": "stdout",
     "output_type": "stream",
     "text": [
      "<class 'pandas.core.frame.DataFrame'>\n",
      "RangeIndex: 13 entries, 0 to 12\n",
      "Data columns (total 16 columns):\n",
      " #   Column            Non-Null Count  Dtype  \n",
      "---  ------            --------------  -----  \n",
      " 0   Data compra       13 non-null     object \n",
      " 1   Data consumo      13 non-null     object \n",
      " 2   Valor             13 non-null     object \n",
      " 3   Vinho             13 non-null     object \n",
      " 4   Vinícula          13 non-null     object \n",
      " 5   Tipo              13 non-null     object \n",
      " 6   Uva               13 non-null     object \n",
      " 7   Graduação         13 non-null     object \n",
      " 8   Ano               12 non-null     float64\n",
      " 9   Região            13 non-null     object \n",
      " 10  País              13 non-null     object \n",
      " 11  Loja              13 non-null     object \n",
      " 12  Ocasião           13 non-null     object \n",
      " 13  Avaliação         13 non-null     object \n",
      " 14  Motivo avaliação  13 non-null     object \n",
      " 15  Obs:              1 non-null      object \n",
      "dtypes: float64(1), object(15)\n",
      "memory usage: 1.8+ KB\n"
     ]
    }
   ],
   "source": [
    "# Visualiza Infos\n",
    "df_vinhos.info()"
   ]
  },
  {
   "cell_type": "code",
   "execution_count": 5,
   "id": "87a7da19",
   "metadata": {},
   "outputs": [],
   "source": [
    "# Converte Valor e Avaliação em float\n",
    "df_vinhos['Valor'] = df_vinhos['Valor'].str.replace(',', '.').astype('float')\n",
    "df_vinhos['Avaliação'] = df_vinhos['Avaliação'].str.replace(',', '.').astype('float')"
   ]
  },
  {
   "cell_type": "code",
   "execution_count": 6,
   "id": "2ce7f345",
   "metadata": {},
   "outputs": [
    {
     "data": {
      "text/plain": [
       "array(['Chile', 'Argentina', 'Portugal', 'Brasil', 'Espanha'],\n",
       "      dtype=object)"
      ]
     },
     "execution_count": 6,
     "metadata": {},
     "output_type": "execute_result"
    }
   ],
   "source": [
    "# Nesse rápido exercício, vamos apenas adicionar o continente de origem do vinho, com base nos unique_values.\n",
    "df_vinhos['País'].unique()"
   ]
  },
  {
   "cell_type": "code",
   "execution_count": 7,
   "id": "5dcc7cff",
   "metadata": {},
   "outputs": [],
   "source": [
    "# Cria a coluna \"Continente\" usando np.where\n",
    "df_vinhos['Continente'] = np.where(df_vinhos['País'].str.contains(\"Argentina|Chile|Brasil\", case=False), 'América do Sul',\n",
    "                                  np.where(df_vinhos['País'].str.contains(\"Portugal|Espanha\", case=False), 'Europa', np.nan))"
   ]
  },
  {
   "cell_type": "code",
   "execution_count": 8,
   "id": "02dedd89",
   "metadata": {},
   "outputs": [
    {
     "data": {
      "text/plain": [
       "(13, 17)"
      ]
     },
     "execution_count": 8,
     "metadata": {},
     "output_type": "execute_result"
    }
   ],
   "source": [
    "# Visualiza o shape\n",
    "df_vinhos.shape"
   ]
  },
  {
   "cell_type": "markdown",
   "id": "7b4a39c5",
   "metadata": {},
   "source": [
    "### Rápida análise exploratória"
   ]
  },
  {
   "cell_type": "code",
   "execution_count": 9,
   "id": "96499a3b",
   "metadata": {},
   "outputs": [
    {
     "data": {
      "text/html": [
       "<div>\n",
       "<style scoped>\n",
       "    .dataframe tbody tr th:only-of-type {\n",
       "        vertical-align: middle;\n",
       "    }\n",
       "\n",
       "    .dataframe tbody tr th {\n",
       "        vertical-align: top;\n",
       "    }\n",
       "\n",
       "    .dataframe thead th {\n",
       "        text-align: right;\n",
       "    }\n",
       "</style>\n",
       "<table border=\"1\" class=\"dataframe\">\n",
       "  <thead>\n",
       "    <tr style=\"text-align: right;\">\n",
       "      <th></th>\n",
       "      <th>Vinho</th>\n",
       "      <th>Avaliação</th>\n",
       "      <th>Valor</th>\n",
       "    </tr>\n",
       "    <tr>\n",
       "      <th>Continente</th>\n",
       "      <th></th>\n",
       "      <th></th>\n",
       "      <th></th>\n",
       "    </tr>\n",
       "  </thead>\n",
       "  <tbody>\n",
       "    <tr>\n",
       "      <th>América do Sul</th>\n",
       "      <td>11</td>\n",
       "      <td>3.681818</td>\n",
       "      <td>55.081818</td>\n",
       "    </tr>\n",
       "    <tr>\n",
       "      <th>Europa</th>\n",
       "      <td>2</td>\n",
       "      <td>3.500000</td>\n",
       "      <td>59.500000</td>\n",
       "    </tr>\n",
       "  </tbody>\n",
       "</table>\n",
       "</div>"
      ],
      "text/plain": [
       "                Vinho  Avaliação      Valor\n",
       "Continente                                 \n",
       "América do Sul     11   3.681818  55.081818\n",
       "Europa              2   3.500000  59.500000"
      ]
     },
     "execution_count": 9,
     "metadata": {},
     "output_type": "execute_result"
    }
   ],
   "source": [
    "# Groupby apenas como análise exploratória\n",
    "df_vinhos.groupby('Continente').agg({'Vinho':'count',\n",
    "                                    'Avaliação' : np.mean,\n",
    "                                    'Valor' : np.mean})"
   ]
  },
  {
   "cell_type": "code",
   "execution_count": 10,
   "id": "d79537cf",
   "metadata": {},
   "outputs": [
    {
     "data": {
      "text/html": [
       "<div>\n",
       "<style scoped>\n",
       "    .dataframe tbody tr th:only-of-type {\n",
       "        vertical-align: middle;\n",
       "    }\n",
       "\n",
       "    .dataframe tbody tr th {\n",
       "        vertical-align: top;\n",
       "    }\n",
       "\n",
       "    .dataframe thead th {\n",
       "        text-align: right;\n",
       "    }\n",
       "</style>\n",
       "<table border=\"1\" class=\"dataframe\">\n",
       "  <thead>\n",
       "    <tr style=\"text-align: right;\">\n",
       "      <th></th>\n",
       "      <th>Vinho</th>\n",
       "      <th>Avaliação</th>\n",
       "      <th>Valor</th>\n",
       "    </tr>\n",
       "    <tr>\n",
       "      <th>Tipo</th>\n",
       "      <th></th>\n",
       "      <th></th>\n",
       "      <th></th>\n",
       "    </tr>\n",
       "  </thead>\n",
       "  <tbody>\n",
       "    <tr>\n",
       "      <th>Branco</th>\n",
       "      <td>3</td>\n",
       "      <td>4.333333</td>\n",
       "      <td>60.000000</td>\n",
       "    </tr>\n",
       "    <tr>\n",
       "      <th>Rosé</th>\n",
       "      <td>3</td>\n",
       "      <td>3.500000</td>\n",
       "      <td>38.300000</td>\n",
       "    </tr>\n",
       "    <tr>\n",
       "      <th>Tinto</th>\n",
       "      <td>7</td>\n",
       "      <td>3.428571</td>\n",
       "      <td>61.428571</td>\n",
       "    </tr>\n",
       "  </tbody>\n",
       "</table>\n",
       "</div>"
      ],
      "text/plain": [
       "        Vinho  Avaliação      Valor\n",
       "Tipo                               \n",
       "Branco      3   4.333333  60.000000\n",
       "Rosé        3   3.500000  38.300000\n",
       "Tinto       7   3.428571  61.428571"
      ]
     },
     "execution_count": 10,
     "metadata": {},
     "output_type": "execute_result"
    }
   ],
   "source": [
    "df_vinhos.groupby('Tipo').agg({'Vinho':'count',\n",
    "                                    'Avaliação' : np.mean,\n",
    "                                    'Valor' : np.mean})"
   ]
  },
  {
   "cell_type": "code",
   "execution_count": 11,
   "id": "a5682b98",
   "metadata": {},
   "outputs": [
    {
     "data": {
      "text/html": [
       "<div>\n",
       "<style scoped>\n",
       "    .dataframe tbody tr th:only-of-type {\n",
       "        vertical-align: middle;\n",
       "    }\n",
       "\n",
       "    .dataframe tbody tr th {\n",
       "        vertical-align: top;\n",
       "    }\n",
       "\n",
       "    .dataframe thead th {\n",
       "        text-align: right;\n",
       "    }\n",
       "</style>\n",
       "<table border=\"1\" class=\"dataframe\">\n",
       "  <thead>\n",
       "    <tr style=\"text-align: right;\">\n",
       "      <th></th>\n",
       "      <th>Vinho</th>\n",
       "      <th>Avaliação</th>\n",
       "      <th>Valor</th>\n",
       "    </tr>\n",
       "    <tr>\n",
       "      <th>País</th>\n",
       "      <th></th>\n",
       "      <th></th>\n",
       "      <th></th>\n",
       "    </tr>\n",
       "  </thead>\n",
       "  <tbody>\n",
       "    <tr>\n",
       "      <th>Argentina</th>\n",
       "      <td>6</td>\n",
       "      <td>3.916667</td>\n",
       "      <td>58.000</td>\n",
       "    </tr>\n",
       "    <tr>\n",
       "      <th>Brasil</th>\n",
       "      <td>1</td>\n",
       "      <td>3.500000</td>\n",
       "      <td>58.000</td>\n",
       "    </tr>\n",
       "    <tr>\n",
       "      <th>Chile</th>\n",
       "      <td>4</td>\n",
       "      <td>3.375000</td>\n",
       "      <td>49.975</td>\n",
       "    </tr>\n",
       "    <tr>\n",
       "      <th>Espanha</th>\n",
       "      <td>1</td>\n",
       "      <td>2.500000</td>\n",
       "      <td>37.000</td>\n",
       "    </tr>\n",
       "    <tr>\n",
       "      <th>Portugal</th>\n",
       "      <td>1</td>\n",
       "      <td>4.500000</td>\n",
       "      <td>82.000</td>\n",
       "    </tr>\n",
       "  </tbody>\n",
       "</table>\n",
       "</div>"
      ],
      "text/plain": [
       "           Vinho  Avaliação   Valor\n",
       "País                               \n",
       "Argentina      6   3.916667  58.000\n",
       "Brasil         1   3.500000  58.000\n",
       "Chile          4   3.375000  49.975\n",
       "Espanha        1   2.500000  37.000\n",
       "Portugal       1   4.500000  82.000"
      ]
     },
     "execution_count": 11,
     "metadata": {},
     "output_type": "execute_result"
    }
   ],
   "source": [
    "df_vinhos.groupby('País').agg({'Vinho':'count',\n",
    "                                    'Avaliação' : np.mean,\n",
    "                                    'Valor' : np.mean})"
   ]
  },
  {
   "cell_type": "markdown",
   "id": "3cfc9470",
   "metadata": {},
   "source": [
    "### Loading dos dados\n",
    "Simula envio para o BigQuery e exporta para csv"
   ]
  },
  {
   "cell_type": "code",
   "execution_count": 12,
   "id": "61bd7ffa",
   "metadata": {},
   "outputs": [],
   "source": [
    "# Apenas simulação: Enviando a base atualizada para o Google Big Query, para alimentar o Looker Studio.\n",
    "'''df_vinhos.to_gbq(credentials=credentials,\n",
    "                                 destination_table='vinhos.df_vinhos',\n",
    "                                 if_exists='replace')'''\n",
    "\n",
    "# Exporta para csv\n",
    "df_vinhos.to_csv('df_vinhos.csv', index=False)"
   ]
  }
 ],
 "metadata": {
  "kernelspec": {
   "display_name": "Python 3 (ipykernel)",
   "language": "python",
   "name": "python3"
  },
  "language_info": {
   "codemirror_mode": {
    "name": "ipython",
    "version": 3
   },
   "file_extension": ".py",
   "mimetype": "text/x-python",
   "name": "python",
   "nbconvert_exporter": "python",
   "pygments_lexer": "ipython3",
   "version": "3.10.9"
  }
 },
 "nbformat": 4,
 "nbformat_minor": 5
}
